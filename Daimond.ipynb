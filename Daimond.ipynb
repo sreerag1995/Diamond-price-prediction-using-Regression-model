{
 "cells": [
  {
   "cell_type": "code",
   "execution_count": 1,
   "id": "daf08aca",
   "metadata": {},
   "outputs": [
    {
     "data": {
      "text/html": [
       "<div>\n",
       "<style scoped>\n",
       "    .dataframe tbody tr th:only-of-type {\n",
       "        vertical-align: middle;\n",
       "    }\n",
       "\n",
       "    .dataframe tbody tr th {\n",
       "        vertical-align: top;\n",
       "    }\n",
       "\n",
       "    .dataframe thead th {\n",
       "        text-align: right;\n",
       "    }\n",
       "</style>\n",
       "<table border=\"1\" class=\"dataframe\">\n",
       "  <thead>\n",
       "    <tr style=\"text-align: right;\">\n",
       "      <th></th>\n",
       "      <th>Unnamed: 0</th>\n",
       "      <th>carat</th>\n",
       "      <th>cut</th>\n",
       "      <th>color</th>\n",
       "      <th>clarity</th>\n",
       "      <th>depth</th>\n",
       "      <th>table</th>\n",
       "      <th>price</th>\n",
       "      <th>x</th>\n",
       "      <th>y</th>\n",
       "      <th>z</th>\n",
       "    </tr>\n",
       "  </thead>\n",
       "  <tbody>\n",
       "    <tr>\n",
       "      <th>0</th>\n",
       "      <td>1</td>\n",
       "      <td>0.23</td>\n",
       "      <td>Ideal</td>\n",
       "      <td>E</td>\n",
       "      <td>SI2</td>\n",
       "      <td>61.5</td>\n",
       "      <td>55.0</td>\n",
       "      <td>326</td>\n",
       "      <td>3.95</td>\n",
       "      <td>3.98</td>\n",
       "      <td>2.43</td>\n",
       "    </tr>\n",
       "    <tr>\n",
       "      <th>1</th>\n",
       "      <td>2</td>\n",
       "      <td>0.21</td>\n",
       "      <td>Premium</td>\n",
       "      <td>E</td>\n",
       "      <td>SI1</td>\n",
       "      <td>59.8</td>\n",
       "      <td>61.0</td>\n",
       "      <td>326</td>\n",
       "      <td>3.89</td>\n",
       "      <td>3.84</td>\n",
       "      <td>2.31</td>\n",
       "    </tr>\n",
       "    <tr>\n",
       "      <th>2</th>\n",
       "      <td>3</td>\n",
       "      <td>0.23</td>\n",
       "      <td>Good</td>\n",
       "      <td>E</td>\n",
       "      <td>VS1</td>\n",
       "      <td>56.9</td>\n",
       "      <td>65.0</td>\n",
       "      <td>327</td>\n",
       "      <td>4.05</td>\n",
       "      <td>4.07</td>\n",
       "      <td>2.31</td>\n",
       "    </tr>\n",
       "    <tr>\n",
       "      <th>3</th>\n",
       "      <td>4</td>\n",
       "      <td>0.29</td>\n",
       "      <td>Premium</td>\n",
       "      <td>I</td>\n",
       "      <td>VS2</td>\n",
       "      <td>62.4</td>\n",
       "      <td>58.0</td>\n",
       "      <td>334</td>\n",
       "      <td>4.20</td>\n",
       "      <td>4.23</td>\n",
       "      <td>2.63</td>\n",
       "    </tr>\n",
       "    <tr>\n",
       "      <th>4</th>\n",
       "      <td>5</td>\n",
       "      <td>0.31</td>\n",
       "      <td>Good</td>\n",
       "      <td>J</td>\n",
       "      <td>SI2</td>\n",
       "      <td>63.3</td>\n",
       "      <td>58.0</td>\n",
       "      <td>335</td>\n",
       "      <td>4.34</td>\n",
       "      <td>4.35</td>\n",
       "      <td>2.75</td>\n",
       "    </tr>\n",
       "  </tbody>\n",
       "</table>\n",
       "</div>"
      ],
      "text/plain": [
       "   Unnamed: 0  carat      cut color clarity  depth  table  price     x     y  \\\n",
       "0           1   0.23    Ideal     E     SI2   61.5   55.0    326  3.95  3.98   \n",
       "1           2   0.21  Premium     E     SI1   59.8   61.0    326  3.89  3.84   \n",
       "2           3   0.23     Good     E     VS1   56.9   65.0    327  4.05  4.07   \n",
       "3           4   0.29  Premium     I     VS2   62.4   58.0    334  4.20  4.23   \n",
       "4           5   0.31     Good     J     SI2   63.3   58.0    335  4.34  4.35   \n",
       "\n",
       "      z  \n",
       "0  2.43  \n",
       "1  2.31  \n",
       "2  2.31  \n",
       "3  2.63  \n",
       "4  2.75  "
      ]
     },
     "execution_count": 1,
     "metadata": {},
     "output_type": "execute_result"
    }
   ],
   "source": [
    "import numpy as np\n",
    "import pandas as pd\n",
    "df_diamond = pd.read_csv('diamonds.csv')\n",
    "df_diamond.head()"
   ]
  },
  {
   "cell_type": "code",
   "execution_count": 2,
   "id": "7d5d84da",
   "metadata": {},
   "outputs": [
    {
     "data": {
      "text/plain": [
       "Index(['Unnamed: 0', 'carat', 'cut', 'color', 'clarity', 'depth', 'table',\n",
       "       'price', 'x', 'y', 'z'],\n",
       "      dtype='object')"
      ]
     },
     "execution_count": 2,
     "metadata": {},
     "output_type": "execute_result"
    }
   ],
   "source": [
    "df_diamond.columns"
   ]
  },
  {
   "cell_type": "code",
   "execution_count": 3,
   "id": "f3631c24",
   "metadata": {},
   "outputs": [],
   "source": [
    "df_num = df_diamond.select_dtypes(include=np.number)\n",
    "df_cat = df_diamond.select_dtypes(include='object')\n"
   ]
  },
  {
   "cell_type": "code",
   "execution_count": 4,
   "id": "385d32ba",
   "metadata": {},
   "outputs": [
    {
     "data": {
      "text/plain": [
       "Unnamed: 0    0\n",
       "carat         0\n",
       "cut           0\n",
       "color         0\n",
       "clarity       0\n",
       "depth         0\n",
       "table         0\n",
       "price         0\n",
       "x             0\n",
       "y             0\n",
       "z             0\n",
       "dtype: int64"
      ]
     },
     "execution_count": 4,
     "metadata": {},
     "output_type": "execute_result"
    }
   ],
   "source": [
    "df_diamond.isnull().sum()"
   ]
  },
  {
   "cell_type": "code",
   "execution_count": 5,
   "id": "8188b903",
   "metadata": {},
   "outputs": [
    {
     "data": {
      "text/html": [
       "<div>\n",
       "<style scoped>\n",
       "    .dataframe tbody tr th:only-of-type {\n",
       "        vertical-align: middle;\n",
       "    }\n",
       "\n",
       "    .dataframe tbody tr th {\n",
       "        vertical-align: top;\n",
       "    }\n",
       "\n",
       "    .dataframe thead th {\n",
       "        text-align: right;\n",
       "    }\n",
       "</style>\n",
       "<table border=\"1\" class=\"dataframe\">\n",
       "  <thead>\n",
       "    <tr style=\"text-align: right;\">\n",
       "      <th></th>\n",
       "      <th>cut</th>\n",
       "      <th>color</th>\n",
       "      <th>clarity</th>\n",
       "    </tr>\n",
       "  </thead>\n",
       "  <tbody>\n",
       "    <tr>\n",
       "      <th>0</th>\n",
       "      <td>Ideal</td>\n",
       "      <td>E</td>\n",
       "      <td>SI2</td>\n",
       "    </tr>\n",
       "    <tr>\n",
       "      <th>1</th>\n",
       "      <td>Premium</td>\n",
       "      <td>E</td>\n",
       "      <td>SI1</td>\n",
       "    </tr>\n",
       "    <tr>\n",
       "      <th>2</th>\n",
       "      <td>Good</td>\n",
       "      <td>E</td>\n",
       "      <td>VS1</td>\n",
       "    </tr>\n",
       "    <tr>\n",
       "      <th>3</th>\n",
       "      <td>Premium</td>\n",
       "      <td>I</td>\n",
       "      <td>VS2</td>\n",
       "    </tr>\n",
       "    <tr>\n",
       "      <th>4</th>\n",
       "      <td>Good</td>\n",
       "      <td>J</td>\n",
       "      <td>SI2</td>\n",
       "    </tr>\n",
       "  </tbody>\n",
       "</table>\n",
       "</div>"
      ],
      "text/plain": [
       "       cut color clarity\n",
       "0    Ideal     E     SI2\n",
       "1  Premium     E     SI1\n",
       "2     Good     E     VS1\n",
       "3  Premium     I     VS2\n",
       "4     Good     J     SI2"
      ]
     },
     "execution_count": 5,
     "metadata": {},
     "output_type": "execute_result"
    }
   ],
   "source": [
    "df_cat.head()"
   ]
  },
  {
   "cell_type": "code",
   "execution_count": 6,
   "id": "d0eb4b0c",
   "metadata": {},
   "outputs": [],
   "source": [
    "import seaborn as sns\n",
    "#sns.heatmap(df_num,annot=True);"
   ]
  },
  {
   "cell_type": "code",
   "execution_count": 7,
   "id": "652f5648",
   "metadata": {},
   "outputs": [
    {
     "data": {
      "text/plain": [
       "Unnamed: 0      int64\n",
       "carat         float64\n",
       "cut            object\n",
       "color          object\n",
       "clarity        object\n",
       "depth         float64\n",
       "table         float64\n",
       "price           int64\n",
       "x             float64\n",
       "y             float64\n",
       "z             float64\n",
       "dtype: object"
      ]
     },
     "execution_count": 7,
     "metadata": {},
     "output_type": "execute_result"
    }
   ],
   "source": [
    "df_diamond.dtypes"
   ]
  },
  {
   "cell_type": "code",
   "execution_count": 8,
   "id": "00e3f4b1",
   "metadata": {},
   "outputs": [
    {
     "data": {
      "text/plain": [
       "(53940, 11)"
      ]
     },
     "execution_count": 8,
     "metadata": {},
     "output_type": "execute_result"
    }
   ],
   "source": [
    "df_diamond.shape"
   ]
  },
  {
   "cell_type": "code",
   "execution_count": 10,
   "id": "74a4cf67",
   "metadata": {},
   "outputs": [
    {
     "data": {
      "text/html": [
       "<div>\n",
       "<style scoped>\n",
       "    .dataframe tbody tr th:only-of-type {\n",
       "        vertical-align: middle;\n",
       "    }\n",
       "\n",
       "    .dataframe tbody tr th {\n",
       "        vertical-align: top;\n",
       "    }\n",
       "\n",
       "    .dataframe thead th {\n",
       "        text-align: right;\n",
       "    }\n",
       "</style>\n",
       "<table border=\"1\" class=\"dataframe\">\n",
       "  <thead>\n",
       "    <tr style=\"text-align: right;\">\n",
       "      <th></th>\n",
       "      <th>VIF</th>\n",
       "      <th>Features</th>\n",
       "    </tr>\n",
       "  </thead>\n",
       "  <tbody>\n",
       "    <tr>\n",
       "      <th>4</th>\n",
       "      <td>1289.143397</td>\n",
       "      <td>x</td>\n",
       "    </tr>\n",
       "    <tr>\n",
       "      <th>6</th>\n",
       "      <td>542.547978</td>\n",
       "      <td>z</td>\n",
       "    </tr>\n",
       "    <tr>\n",
       "      <th>5</th>\n",
       "      <td>531.018084</td>\n",
       "      <td>y</td>\n",
       "    </tr>\n",
       "    <tr>\n",
       "      <th>2</th>\n",
       "      <td>527.647491</td>\n",
       "      <td>depth</td>\n",
       "    </tr>\n",
       "    <tr>\n",
       "      <th>3</th>\n",
       "      <td>502.126566</td>\n",
       "      <td>table</td>\n",
       "    </tr>\n",
       "  </tbody>\n",
       "</table>\n",
       "</div>"
      ],
      "text/plain": [
       "           VIF Features\n",
       "4  1289.143397        x\n",
       "6   542.547978        z\n",
       "5   531.018084        y\n",
       "2   527.647491    depth\n",
       "3   502.126566    table"
      ]
     },
     "execution_count": 10,
     "metadata": {},
     "output_type": "execute_result"
    }
   ],
   "source": [
    "from statsmodels.stats.outliers_influence import variance_inflation_factor\n",
    "vif = pd.DataFrame()\n",
    "df_num = df_diamond.select_dtypes(include=np.number).drop('price',axis=1)\n",
    "vif['VIF'] = [variance_inflation_factor(df_num.values,i) for i in range(df_num.shape[1])]\n",
    "vif['Features'] = df_num.columns\n",
    "vif.sort_values('VIF',ascending=False).head()"
   ]
  },
  {
   "cell_type": "code",
   "execution_count": 13,
   "id": "dc00f301",
   "metadata": {},
   "outputs": [
    {
     "name": "stdout",
     "output_type": "stream",
     "text": [
      "        VIF    features\n",
      "0  1.724023  Unnamed: 0\n",
      "1  1.724023       carat\n"
     ]
    }
   ],
   "source": [
    "df_num1 = df_num.copy()\n",
    "for i in range(len(df_num1.columns)):\n",
    "    vif = pd.DataFrame()\n",
    "    vif['VIF'] = [variance_inflation_factor(df_num1.values,i) for i in range(df_num1.shape[1])]\n",
    "    vif['features'] = df_num1.columns\n",
    "    new = vif[vif['VIF']>3]\n",
    "    if (new.empty==False):\n",
    "        df_sort = new.sort_values('VIF',ascending=False)\n",
    "    else:\n",
    "        print(vif)\n",
    "        break\n",
    "    if (df_sort.empty==False):\n",
    "        df_num1 = df_num1.drop(df_sort.features.iloc[0],axis=1)\n",
    "    else:\n",
    "        print(vif)"
   ]
  },
  {
   "cell_type": "code",
   "execution_count": 22,
   "id": "fbfcd048",
   "metadata": {},
   "outputs": [
    {
     "data": {
      "image/png": "[encoded data removed]",
      "text/plain": [
       "<Figure size 1080x576 with 6 Axes>"
      ]
     },
     "metadata": {
      "needs_background": "light"
     },
     "output_type": "display_data"
    }
   ],
   "source": [
    "import warnings\n",
    "warnings.filterwarnings('ignore')\n",
    "import matplotlib.pyplot as plt\n",
    "fig,ax = plt.subplots(3,2,figsize=(15,8))\n",
    "\n",
    "\n",
    "for var,subplot in zip(df_num.columns,ax.flatten()):\n",
    "    z=sns.boxplot(df_num[var],ax=subplot);\n",
    "plt.show();"
   ]
  },
  {
   "cell_type": "code",
   "execution_count": 24,
   "id": "89c9856b",
   "metadata": {},
   "outputs": [],
   "source": [
    "q1 = df_diamond.quantile(0.25)\n",
    "q3 = df_diamond.quantile(0.75)\n",
    "iqr = q3-q1\n",
    "ll = q1-1.5*iqr\n",
    "ul = q3+1.5*iqr\n",
    "df_new = df_diamond[~((df_diamond<ll) | (df_diamond > ul)).any(axis=1)].reset_index(drop=True)"
   ]
  },
  {
   "cell_type": "code",
   "execution_count": 23,
   "id": "3130f285",
   "metadata": {},
   "outputs": [
    {
     "data": {
      "text/plain": [
       "(53940, 11)"
      ]
     },
     "execution_count": 23,
     "metadata": {},
     "output_type": "execute_result"
    }
   ],
   "source": [
    "df_diamond.shape"
   ]
  },
  {
   "cell_type": "code",
   "execution_count": 25,
   "id": "e9fca075",
   "metadata": {},
   "outputs": [
    {
     "data": {
      "text/plain": [
       "(47524, 11)"
      ]
     },
     "execution_count": 25,
     "metadata": {},
     "output_type": "execute_result"
    }
   ],
   "source": [
    "df_new.shape"
   ]
  },
  {
   "cell_type": "code",
   "execution_count": 26,
   "id": "622f0e7d",
   "metadata": {},
   "outputs": [],
   "source": [
    "df_num = df_new.select_dtypes(include=np.number)\n",
    "df_cat = df_new.select_dtypes(include='object')"
   ]
  },
  {
   "cell_type": "code",
   "execution_count": 30,
   "id": "1e649711",
   "metadata": {},
   "outputs": [],
   "source": [
    "from sklearn.preprocessing import StandardScaler\n",
    "from sklearn.model_selection import train_test_split\n",
    "sc=StandardScaler()\n",
    "scaled = pd.DataFrame(sc.fit_transform(df_num),columns=df_num.columns)\n",
    "dummies = pd.get_dummies(df_cat,drop_first=True)\n",
    "df_dia = pd.concat([scaled,dummies],axis=1)"
   ]
  },
  {
   "cell_type": "code",
   "execution_count": 31,
   "id": "f3468bdb",
   "metadata": {},
   "outputs": [
    {
     "data": {
      "text/html": [
       "<div>\n",
       "<style scoped>\n",
       "    .dataframe tbody tr th:only-of-type {\n",
       "        vertical-align: middle;\n",
       "    }\n",
       "\n",
       "    .dataframe tbody tr th {\n",
       "        vertical-align: top;\n",
       "    }\n",
       "\n",
       "    .dataframe thead th {\n",
       "        text-align: right;\n",
       "    }\n",
       "</style>\n",
       "<table border=\"1\" class=\"dataframe\">\n",
       "  <thead>\n",
       "    <tr style=\"text-align: right;\">\n",
       "      <th></th>\n",
       "      <th>Unnamed: 0</th>\n",
       "      <th>carat</th>\n",
       "      <th>depth</th>\n",
       "      <th>table</th>\n",
       "      <th>price</th>\n",
       "      <th>x</th>\n",
       "      <th>y</th>\n",
       "      <th>z</th>\n",
       "      <th>cut_Good</th>\n",
       "      <th>cut_Ideal</th>\n",
       "      <th>...</th>\n",
       "      <th>color_H</th>\n",
       "      <th>color_I</th>\n",
       "      <th>color_J</th>\n",
       "      <th>clarity_IF</th>\n",
       "      <th>clarity_SI1</th>\n",
       "      <th>clarity_SI2</th>\n",
       "      <th>clarity_VS1</th>\n",
       "      <th>clarity_VS2</th>\n",
       "      <th>clarity_VVS1</th>\n",
       "      <th>clarity_VVS2</th>\n",
       "    </tr>\n",
       "  </thead>\n",
       "  <tbody>\n",
       "    <tr>\n",
       "      <th>0</th>\n",
       "      <td>-1.701457</td>\n",
       "      <td>-1.289950</td>\n",
       "      <td>-0.259076</td>\n",
       "      <td>-1.118057</td>\n",
       "      <td>-1.012363</td>\n",
       "      <td>-1.629414</td>\n",
       "      <td>-1.613461</td>\n",
       "      <td>-1.647072</td>\n",
       "      <td>0</td>\n",
       "      <td>1</td>\n",
       "      <td>...</td>\n",
       "      <td>0</td>\n",
       "      <td>0</td>\n",
       "      <td>0</td>\n",
       "      <td>0</td>\n",
       "      <td>0</td>\n",
       "      <td>1</td>\n",
       "      <td>0</td>\n",
       "      <td>0</td>\n",
       "      <td>0</td>\n",
       "      <td>0</td>\n",
       "    </tr>\n",
       "    <tr>\n",
       "      <th>1</th>\n",
       "      <td>-1.701394</td>\n",
       "      <td>-1.343844</td>\n",
       "      <td>-1.796287</td>\n",
       "      <td>1.849991</td>\n",
       "      <td>-1.012363</td>\n",
       "      <td>-1.690645</td>\n",
       "      <td>-1.757201</td>\n",
       "      <td>-1.845043</td>\n",
       "      <td>0</td>\n",
       "      <td>0</td>\n",
       "      <td>...</td>\n",
       "      <td>0</td>\n",
       "      <td>0</td>\n",
       "      <td>0</td>\n",
       "      <td>0</td>\n",
       "      <td>1</td>\n",
       "      <td>0</td>\n",
       "      <td>0</td>\n",
       "      <td>0</td>\n",
       "      <td>0</td>\n",
       "      <td>0</td>\n",
       "    </tr>\n",
       "    <tr>\n",
       "      <th>2</th>\n",
       "      <td>-1.701269</td>\n",
       "      <td>-1.128269</td>\n",
       "      <td>0.554741</td>\n",
       "      <td>0.365967</td>\n",
       "      <td>-1.009454</td>\n",
       "      <td>-1.374285</td>\n",
       "      <td>-1.356782</td>\n",
       "      <td>-1.317122</td>\n",
       "      <td>0</td>\n",
       "      <td>0</td>\n",
       "      <td>...</td>\n",
       "      <td>0</td>\n",
       "      <td>1</td>\n",
       "      <td>0</td>\n",
       "      <td>0</td>\n",
       "      <td>0</td>\n",
       "      <td>0</td>\n",
       "      <td>0</td>\n",
       "      <td>1</td>\n",
       "      <td>0</td>\n",
       "      <td>0</td>\n",
       "    </tr>\n",
       "    <tr>\n",
       "      <th>3</th>\n",
       "      <td>-1.701207</td>\n",
       "      <td>-1.074375</td>\n",
       "      <td>1.368559</td>\n",
       "      <td>0.365967</td>\n",
       "      <td>-1.009090</td>\n",
       "      <td>-1.231412</td>\n",
       "      <td>-1.233576</td>\n",
       "      <td>-1.119152</td>\n",
       "      <td>1</td>\n",
       "      <td>0</td>\n",
       "      <td>...</td>\n",
       "      <td>0</td>\n",
       "      <td>0</td>\n",
       "      <td>1</td>\n",
       "      <td>0</td>\n",
       "      <td>0</td>\n",
       "      <td>1</td>\n",
       "      <td>0</td>\n",
       "      <td>0</td>\n",
       "      <td>0</td>\n",
       "      <td>0</td>\n",
       "    </tr>\n",
       "    <tr>\n",
       "      <th>4</th>\n",
       "      <td>-1.701144</td>\n",
       "      <td>-1.263003</td>\n",
       "      <td>0.916438</td>\n",
       "      <td>-0.128708</td>\n",
       "      <td>-1.008726</td>\n",
       "      <td>-1.639619</td>\n",
       "      <td>-1.633995</td>\n",
       "      <td>-1.564585</td>\n",
       "      <td>0</td>\n",
       "      <td>0</td>\n",
       "      <td>...</td>\n",
       "      <td>0</td>\n",
       "      <td>0</td>\n",
       "      <td>1</td>\n",
       "      <td>0</td>\n",
       "      <td>0</td>\n",
       "      <td>0</td>\n",
       "      <td>0</td>\n",
       "      <td>0</td>\n",
       "      <td>0</td>\n",
       "      <td>1</td>\n",
       "    </tr>\n",
       "  </tbody>\n",
       "</table>\n",
       "<p>5 rows × 25 columns</p>\n",
       "</div>"
      ],
      "text/plain": [
       "   Unnamed: 0     carat     depth     table     price         x         y  \\\n",
       "0   -1.701457 -1.289950 -0.259076 -1.118057 -1.012363 -1.629414 -1.613461   \n",
       "1   -1.701394 -1.343844 -1.796287  1.849991 -1.012363 -1.690645 -1.757201   \n",
       "2   -1.701269 -1.128269  0.554741  0.365967 -1.009454 -1.374285 -1.356782   \n",
       "3   -1.701207 -1.074375  1.368559  0.365967 -1.009090 -1.231412 -1.233576   \n",
       "4   -1.701144 -1.263003  0.916438 -0.128708 -1.008726 -1.639619 -1.633995   \n",
       "\n",
       "          z  cut_Good  cut_Ideal  ...  color_H  color_I  color_J  clarity_IF  \\\n",
       "0 -1.647072         0          1  ...        0        0        0           0   \n",
       "1 -1.845043         0          0  ...        0        0        0           0   \n",
       "2 -1.317122         0          0  ...        0        1        0           0   \n",
       "3 -1.119152         1          0  ...        0        0        1           0   \n",
       "4 -1.564585         0          0  ...        0        0        1           0   \n",
       "\n",
       "   clarity_SI1  clarity_SI2  clarity_VS1  clarity_VS2  clarity_VVS1  \\\n",
       "0            0            1            0            0             0   \n",
       "1            1            0            0            0             0   \n",
       "2            0            0            0            1             0   \n",
       "3            0            1            0            0             0   \n",
       "4            0            0            0            0             0   \n",
       "\n",
       "   clarity_VVS2  \n",
       "0             0  \n",
       "1             0  \n",
       "2             0  \n",
       "3             0  \n",
       "4             1  \n",
       "\n",
       "[5 rows x 25 columns]"
      ]
     },
     "execution_count": 31,
     "metadata": {},
     "output_type": "execute_result"
    }
   ],
   "source": [
    "df_dia.head()"
   ]
  },
  {
   "cell_type": "code",
   "execution_count": 33,
   "id": "c532e6c2",
   "metadata": {},
   "outputs": [],
   "source": [
    "from sklearn.model_selection import train_test_split\n",
    "x = df_dia.drop('price',axis=1)\n",
    "y = df_dia['price']\n",
    "x_train,x_test,y_train,y_test = train_test_split(x,y,test_size=0.3,random_state=10)"
   ]
  },
  {
   "cell_type": "code",
   "execution_count": 35,
   "id": "ca04b2df",
   "metadata": {},
   "outputs": [
    {
     "name": "stdout",
     "output_type": "stream",
     "text": [
      "                                 OLS Regression Results                                \n",
      "=======================================================================================\n",
      "Dep. Variable:                  price   R-squared (uncentered):                   0.923\n",
      "Model:                            OLS   Adj. R-squared (uncentered):              0.923\n",
      "Method:                 Least Squares   F-statistic:                          2.377e+04\n",
      "Date:                Sun, 21 Nov 2021   Prob (F-statistic):                        0.00\n",
      "Time:                        11:08:54   Log-Likelihood:                         -6469.6\n",
      "No. Observations:               47524   AIC:                                  1.299e+04\n",
      "Df Residuals:                   47500   BIC:                                  1.320e+04\n",
      "Df Model:                          24                                                  \n",
      "Covariance Type:            nonrobust                                                  \n",
      "=================================================================================\n",
      "                    coef    std err          t      P>|t|      [0.025      0.975]\n",
      "---------------------------------------------------------------------------------\n",
      "Unnamed: 0       -0.0077      0.001     -5.275      0.000      -0.011      -0.005\n",
      "carat             1.4867      0.008    178.184      0.000       1.470       1.503\n",
      "depth            -0.0058      0.003     -1.695      0.090      -0.013       0.001\n",
      "table            -0.0265      0.002    -15.830      0.000      -0.030      -0.023\n",
      "x                -0.5635      0.030    -18.533      0.000      -0.623      -0.504\n",
      "y                 0.4267      0.030     14.215      0.000       0.368       0.486\n",
      "z                -0.3065      0.029    -10.482      0.000      -0.364      -0.249\n",
      "cut_Good         -0.4750      0.011    -41.810      0.000      -0.497      -0.453\n",
      "cut_Ideal        -0.4291      0.011    -39.639      0.000      -0.450      -0.408\n",
      "cut_Premium      -0.4301      0.011    -39.426      0.000      -0.451      -0.409\n",
      "cut_Very Good    -0.4570      0.011    -42.016      0.000      -0.478      -0.436\n",
      "color_E          -0.0920      0.005    -20.180      0.000      -0.101      -0.083\n",
      "color_F          -0.1121      0.005    -24.200      0.000      -0.121      -0.103\n",
      "color_G          -0.1610      0.005    -35.510      0.000      -0.170      -0.152\n",
      "color_H          -0.2962      0.005    -60.874      0.000      -0.306      -0.287\n",
      "color_I          -0.4462      0.006    -80.251      0.000      -0.457      -0.435\n",
      "color_J          -0.6865      0.007    -97.693      0.000      -0.700      -0.673\n",
      "clarity_IF        0.9484      0.013     74.930      0.000       0.924       0.973\n",
      "clarity_SI1       0.5175      0.011     48.449      0.000       0.497       0.538\n",
      "clarity_SI2       0.2416      0.011     22.421      0.000       0.220       0.263\n",
      "clarity_VS1       0.7859      0.011     71.820      0.000       0.764       0.807\n",
      "clarity_VS2       0.6863      0.011     63.904      0.000       0.665       0.707\n",
      "clarity_VVS1      0.8988      0.012     77.488      0.000       0.876       0.921\n",
      "clarity_VVS2      0.9047      0.011     80.259      0.000       0.883       0.927\n",
      "==============================================================================\n",
      "Omnibus:                    12747.964   Durbin-Watson:                   1.089\n",
      "Prob(Omnibus):                  0.000   Jarque-Bera (JB):            92839.806\n",
      "Skew:                           1.097   Prob(JB):                         0.00\n",
      "Kurtosis:                       9.486   Cond. No.                         60.7\n",
      "==============================================================================\n",
      "\n",
      "Notes:\n",
      "[1] R² is computed without centering (uncentered) since the model does not contain a constant.\n",
      "[2] Standard Errors assume that the covariance matrix of the errors is correctly specified.\n"
     ]
    }
   ],
   "source": [
    "import statsmodels.api as sm\n",
    "base_model = sm.OLS(y,x).fit()\n",
    "print(base_model.summary())"
   ]
  },
  {
   "cell_type": "code",
   "execution_count": 36,
   "id": "29adf540",
   "metadata": {},
   "outputs": [
    {
     "data": {
      "text/html": [
       "<div>\n",
       "<style scoped>\n",
       "    .dataframe tbody tr th:only-of-type {\n",
       "        vertical-align: middle;\n",
       "    }\n",
       "\n",
       "    .dataframe tbody tr th {\n",
       "        vertical-align: top;\n",
       "    }\n",
       "\n",
       "    .dataframe thead th {\n",
       "        text-align: right;\n",
       "    }\n",
       "</style>\n",
       "<table border=\"1\" class=\"dataframe\">\n",
       "  <thead>\n",
       "    <tr style=\"text-align: right;\">\n",
       "      <th></th>\n",
       "      <th>P val</th>\n",
       "    </tr>\n",
       "  </thead>\n",
       "  <tbody>\n",
       "    <tr>\n",
       "      <th>Unnamed: 0</th>\n",
       "      <td>1.335742e-07</td>\n",
       "    </tr>\n",
       "    <tr>\n",
       "      <th>carat</th>\n",
       "      <td>0.000000e+00</td>\n",
       "    </tr>\n",
       "    <tr>\n",
       "      <th>table</th>\n",
       "      <td>2.691518e-56</td>\n",
       "    </tr>\n",
       "    <tr>\n",
       "      <th>x</th>\n",
       "      <td>2.101753e-76</td>\n",
       "    </tr>\n",
       "    <tr>\n",
       "      <th>y</th>\n",
       "      <td>9.157126e-46</td>\n",
       "    </tr>\n",
       "    <tr>\n",
       "      <th>z</th>\n",
       "      <td>1.117830e-25</td>\n",
       "    </tr>\n",
       "    <tr>\n",
       "      <th>cut_Good</th>\n",
       "      <td>0.000000e+00</td>\n",
       "    </tr>\n",
       "    <tr>\n",
       "      <th>cut_Ideal</th>\n",
       "      <td>0.000000e+00</td>\n",
       "    </tr>\n",
       "    <tr>\n",
       "      <th>cut_Premium</th>\n",
       "      <td>0.000000e+00</td>\n",
       "    </tr>\n",
       "    <tr>\n",
       "      <th>cut_Very Good</th>\n",
       "      <td>0.000000e+00</td>\n",
       "    </tr>\n",
       "    <tr>\n",
       "      <th>color_E</th>\n",
       "      <td>3.483005e-90</td>\n",
       "    </tr>\n",
       "    <tr>\n",
       "      <th>color_F</th>\n",
       "      <td>1.349804e-128</td>\n",
       "    </tr>\n",
       "    <tr>\n",
       "      <th>color_G</th>\n",
       "      <td>1.297151e-272</td>\n",
       "    </tr>\n",
       "    <tr>\n",
       "      <th>color_H</th>\n",
       "      <td>0.000000e+00</td>\n",
       "    </tr>\n",
       "    <tr>\n",
       "      <th>color_I</th>\n",
       "      <td>0.000000e+00</td>\n",
       "    </tr>\n",
       "    <tr>\n",
       "      <th>color_J</th>\n",
       "      <td>0.000000e+00</td>\n",
       "    </tr>\n",
       "    <tr>\n",
       "      <th>clarity_IF</th>\n",
       "      <td>0.000000e+00</td>\n",
       "    </tr>\n",
       "    <tr>\n",
       "      <th>clarity_SI1</th>\n",
       "      <td>0.000000e+00</td>\n",
       "    </tr>\n",
       "    <tr>\n",
       "      <th>clarity_SI2</th>\n",
       "      <td>9.326290e-111</td>\n",
       "    </tr>\n",
       "    <tr>\n",
       "      <th>clarity_VS1</th>\n",
       "      <td>0.000000e+00</td>\n",
       "    </tr>\n",
       "    <tr>\n",
       "      <th>clarity_VS2</th>\n",
       "      <td>0.000000e+00</td>\n",
       "    </tr>\n",
       "    <tr>\n",
       "      <th>clarity_VVS1</th>\n",
       "      <td>0.000000e+00</td>\n",
       "    </tr>\n",
       "    <tr>\n",
       "      <th>clarity_VVS2</th>\n",
       "      <td>0.000000e+00</td>\n",
       "    </tr>\n",
       "  </tbody>\n",
       "</table>\n",
       "</div>"
      ],
      "text/plain": [
       "                       P val\n",
       "Unnamed: 0      1.335742e-07\n",
       "carat           0.000000e+00\n",
       "table           2.691518e-56\n",
       "x               2.101753e-76\n",
       "y               9.157126e-46\n",
       "z               1.117830e-25\n",
       "cut_Good        0.000000e+00\n",
       "cut_Ideal       0.000000e+00\n",
       "cut_Premium     0.000000e+00\n",
       "cut_Very Good   0.000000e+00\n",
       "color_E         3.483005e-90\n",
       "color_F        1.349804e-128\n",
       "color_G        1.297151e-272\n",
       "color_H         0.000000e+00\n",
       "color_I         0.000000e+00\n",
       "color_J         0.000000e+00\n",
       "clarity_IF      0.000000e+00\n",
       "clarity_SI1     0.000000e+00\n",
       "clarity_SI2    9.326290e-111\n",
       "clarity_VS1     0.000000e+00\n",
       "clarity_VS2     0.000000e+00\n",
       "clarity_VVS1    0.000000e+00\n",
       "clarity_VVS2    0.000000e+00"
      ]
     },
     "execution_count": 36,
     "metadata": {},
     "output_type": "execute_result"
    }
   ],
   "source": [
    "p_val = pd.DataFrame()\n",
    "p_val['P val'] = base_model.pvalues\n",
    "p_val[p_val['P val']<0.05]"
   ]
  },
  {
   "cell_type": "code",
   "execution_count": 37,
   "id": "3182293e",
   "metadata": {},
   "outputs": [
    {
     "name": "stdout",
     "output_type": "stream",
     "text": [
      "('Unnamed: 0', 'carat', 'table', 'x', 'y', 'z', 'cut_Good', 'cut_Ideal', 'cut_Premium', 'cut_Very Good', 'color_E', 'color_F', 'color_G', 'color_H', 'color_I', 'color_J', 'clarity_IF', 'clarity_SI1', 'clarity_SI2', 'clarity_VS1', 'clarity_VS2', 'clarity_VVS1', 'clarity_VVS2')\n",
      "0.927006328954667\n"
     ]
    }
   ],
   "source": [
    "from mlxtend.feature_selection import SequentialFeatureSelector as sfs\n",
    "from sklearn.linear_model import LinearRegression\n",
    "lr = LinearRegression()\n",
    "lr_rfe = sfs(estimator=lr,forward=True,k_features='best',scoring='r2')\n",
    "lr_rfe_model = lr_rfe.fit(x_train,y_train)\n",
    "print(lr_rfe_model.k_feature_names_)\n",
    "print(lr_rfe_model.k_score_)"
   ]
  },
  {
   "cell_type": "code",
   "execution_count": 38,
   "id": "132c5510",
   "metadata": {},
   "outputs": [
    {
     "name": "stdout",
     "output_type": "stream",
     "text": [
      "('Unnamed: 0', 'carat', 'table', 'x', 'y', 'z', 'cut_Good', 'cut_Ideal', 'cut_Premium', 'cut_Very Good', 'color_E', 'color_F', 'color_G', 'color_H', 'color_I', 'color_J', 'clarity_IF', 'clarity_SI1', 'clarity_SI2', 'clarity_VS1', 'clarity_VS2', 'clarity_VVS1', 'clarity_VVS2')\n",
      "0.927006328954667\n"
     ]
    }
   ],
   "source": [
    "from mlxtend.feature_selection import SequentialFeatureSelector as sfs\n",
    "from sklearn.linear_model import LinearRegression\n",
    "lr = LinearRegression()\n",
    "lr_rfe = sfs(estimator=lr,forward=False,k_features='best',scoring='r2')\n",
    "lr_rfe_model = lr_rfe.fit(x_train,y_train)\n",
    "print(lr_rfe_model.k_feature_names_)\n",
    "print(lr_rfe_model.k_score_)"
   ]
  },
  {
   "cell_type": "code",
   "execution_count": 39,
   "id": "9ea0bbe9",
   "metadata": {},
   "outputs": [
    {
     "data": {
      "text/plain": [
       "carat           1\n",
       "x               1\n",
       "color_J         1\n",
       "clarity_IF      1\n",
       "clarity_SI1     1\n",
       "clarity_SI2     1\n",
       "clarity_VS1     1\n",
       "clarity_VS2     1\n",
       "clarity_VVS1    1\n",
       "clarity_VVS2    1\n",
       "dtype: int32"
      ]
     },
     "execution_count": 39,
     "metadata": {},
     "output_type": "execute_result"
    }
   ],
   "source": [
    "from sklearn.feature_selection import RFE\n",
    "lr = LinearRegression()\n",
    "rfe_model = RFE(estimator=lr,n_features_to_select=10)\n",
    "rfe_model  = rfe_model.fit(x_train,y_train)\n",
    "feat_index = pd.Series(rfe_model.ranking_,index=x_train.columns)\n",
    "feat_index[feat_index==1]"
   ]
  },
  {
   "cell_type": "code",
   "execution_count": 44,
   "id": "f249c930",
   "metadata": {},
   "outputs": [
    {
     "name": "stdout",
     "output_type": "stream",
     "text": [
      "                            OLS Regression Results                            \n",
      "==============================================================================\n",
      "Dep. Variable:                  price   R-squared:                       0.927\n",
      "Model:                            OLS   Adj. R-squared:                  0.927\n",
      "Method:                 Least Squares   F-statistic:                 1.842e+04\n",
      "Date:                Sun, 21 Nov 2021   Prob (F-statistic):               0.00\n",
      "Time:                        11:14:02   Log-Likelihood:                -3470.9\n",
      "No. Observations:               33266   AIC:                             6990.\n",
      "Df Residuals:                   33242   BIC:                             7192.\n",
      "Df Model:                          23                                         \n",
      "Covariance Type:            nonrobust                                         \n",
      "=================================================================================\n",
      "                    coef    std err          t      P>|t|      [0.025      0.975]\n",
      "---------------------------------------------------------------------------------\n",
      "const            -0.9833      0.023    -42.983      0.000      -1.028      -0.938\n",
      "Unnamed: 0       -0.0076      0.002     -4.510      0.000      -0.011      -0.004\n",
      "carat             1.4886      0.010    155.038      0.000       1.470       1.507\n",
      "table            -0.0174      0.002     -9.087      0.000      -0.021      -0.014\n",
      "x                -0.5084      0.032    -16.055      0.000      -0.571      -0.446\n",
      "y                 0.3159      0.029     10.716      0.000       0.258       0.374\n",
      "z                -0.2508      0.015    -16.567      0.000      -0.281      -0.221\n",
      "cut_Good          0.1003      0.019      5.399      0.000       0.064       0.137\n",
      "cut_Ideal         0.1658      0.018      9.019      0.000       0.130       0.202\n",
      "cut_Premium       0.1505      0.018      8.239      0.000       0.115       0.186\n",
      "cut_Very Good     0.1243      0.018      6.785      0.000       0.088       0.160\n",
      "color_E          -0.0577      0.005    -10.884      0.000      -0.068      -0.047\n",
      "color_F          -0.0794      0.005    -14.672      0.000      -0.090      -0.069\n",
      "color_G          -0.1255      0.005    -23.724      0.000      -0.136      -0.115\n",
      "color_H          -0.2640      0.006    -46.591      0.000      -0.275      -0.253\n",
      "color_I          -0.4139      0.006    -64.524      0.000      -0.427      -0.401\n",
      "color_J          -0.6515      0.008    -79.412      0.000      -0.668      -0.635\n",
      "clarity_IF        1.3234      0.017     76.526      0.000       1.290       1.357\n",
      "clarity_SI1       0.8912      0.015     57.923      0.000       0.861       0.921\n",
      "clarity_SI2       0.6155      0.015     39.747      0.000       0.585       0.646\n",
      "clarity_VS1       1.1486      0.016     73.559      0.000       1.118       1.179\n",
      "clarity_VS2       1.0587      0.015     68.577      0.000       1.028       1.089\n",
      "clarity_VVS1      1.2665      0.016     78.016      0.000       1.235       1.298\n",
      "clarity_VVS2      1.2699      0.016     79.589      0.000       1.239       1.301\n",
      "==============================================================================\n",
      "Omnibus:                    10567.886   Durbin-Watson:                   1.994\n",
      "Prob(Omnibus):                  0.000   Jarque-Bera (JB):            68646.472\n",
      "Skew:                           1.371   Prob(JB):                         0.00\n",
      "Kurtosis:                       9.481   Cond. No.                         63.2\n",
      "==============================================================================\n",
      "\n",
      "Notes:\n",
      "[1] Standard Errors assume that the covariance matrix of the errors is correctly specified.\n"
     ]
    }
   ],
   "source": [
    "signi = list(lr_rfe_model.k_feature_names_)\n",
    "x_train_new = x_train[signi]\n",
    "x_test_new = x_test[signi]\n",
    "new_model = sm.OLS(y_train,sm.add_constant(x_train_new)).fit()\n",
    "print((new_model.summary()))"
   ]
  },
  {
   "cell_type": "code",
   "execution_count": 41,
   "id": "03214940",
   "metadata": {},
   "outputs": [
    {
     "data": {
      "text/plain": [
       "0.9272424468557907"
      ]
     },
     "execution_count": 41,
     "metadata": {},
     "output_type": "execute_result"
    }
   ],
   "source": [
    "lr = LinearRegression()\n",
    "lr_model = lr.fit(x_train_new,y_train)\n",
    "lr_model.score(x_train_new,y_train)"
   ]
  },
  {
   "cell_type": "code",
   "execution_count": 45,
   "id": "58334191",
   "metadata": {},
   "outputs": [],
   "source": [
    "y_pred_test = lr_model.predict(x_test_new)"
   ]
  },
  {
   "cell_type": "code",
   "execution_count": 50,
   "id": "be84aadf",
   "metadata": {},
   "outputs": [
    {
     "data": {
      "text/plain": [
       "0.9264183634336015"
      ]
     },
     "execution_count": 50,
     "metadata": {},
     "output_type": "execute_result"
    }
   ],
   "source": [
    "from sklearn.metrics import r2_score\n",
    "r2_score(y_true=y_test,y_pred=y_pred_test)"
   ]
  },
  {
   "cell_type": "code",
   "execution_count": 47,
   "id": "2a676e5e",
   "metadata": {},
   "outputs": [],
   "source": [
    "y_pred_train = lr_model.predict(x_train_new)"
   ]
  },
  {
   "cell_type": "code",
   "execution_count": 52,
   "id": "afea7e6b",
   "metadata": {},
   "outputs": [
    {
     "data": {
      "text/plain": [
       "0.9272424468557907"
      ]
     },
     "execution_count": 52,
     "metadata": {},
     "output_type": "execute_result"
    }
   ],
   "source": [
    "from sklearn.metrics import r2_score\n",
    "r2_score(y_true=y_train,y_pred=y_pred_train)"
   ]
  },
  {
   "cell_type": "code",
   "execution_count": 53,
   "id": "9d1aafe7",
   "metadata": {},
   "outputs": [],
   "source": [
    "res=y_train-y_pred_train"
   ]
  },
  {
   "cell_type": "code",
   "execution_count": 54,
   "id": "575848c7",
   "metadata": {},
   "outputs": [
    {
     "data": {
      "image/png": "[encoded data removed]",
      "text/plain": [
       "<Figure size 1080x360 with 2 Axes>"
      ]
     },
     "metadata": {
      "needs_background": "light"
     },
     "output_type": "display_data"
    }
   ],
   "source": [
    "plt.figure(figsize=(15,5))\n",
    "ax1=plt.subplot(121)\n",
    "sns.distplot(res,ax=ax1)\n",
    "plt.title(\"Error density distribution\",fontdict={\"fontsize\":20,\"fontweight\":-0.5,\"color\":\"Red\"})\n",
    "plt.xlabel(\"Error terms\")\n",
    "ax2=plt.subplot(122)\n",
    "sns.scatterplot(x=y_train,y=res,ax=ax2)\n",
    "plt.title(\"Error terms vs price_train\",fontdict={\"fontsize\":20,\"fontweight\":-0.5,\"color\":\"Red\"})\n",
    "plt.ylabel(\"Error terms\")\n",
    "plt.show()"
   ]
  },
  {
   "cell_type": "code",
   "execution_count": 56,
   "id": "9a5d307f",
   "metadata": {},
   "outputs": [
    {
     "data": {
      "image/png": "[encoded data removed]",
      "text/plain": [
       "<Figure size 432x288 with 1 Axes>"
      ]
     },
     "metadata": {
      "needs_background": "light"
     },
     "output_type": "display_data"
    }
   ],
   "source": [
    "sns.scatterplot(y_test,y_pred_test);"
   ]
  },
  {
   "cell_type": "code",
   "execution_count": null,
   "id": "5d8dd515",
   "metadata": {},
   "outputs": [],
   "source": []
  }
 ],
 "metadata": {
  "kernelspec": {
   "display_name": "Python 3",
   "language": "python",
   "name": "python3"
  },
  "language_info": {
   "codemirror_mode": {
    "name": "ipython",
    "version": 3
   },
   "file_extension": ".py",
   "mimetype": "text/x-python",
   "name": "python",
   "nbconvert_exporter": "python",
   "pygments_lexer": "ipython3",
   "version": "3.8.8"
  }
 },
 "nbformat": 4,
 "nbformat_minor": 5
}
